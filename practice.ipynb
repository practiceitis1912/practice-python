{
 "cells": [
  {
   "cell_type": "code",
   "execution_count": 1,
   "metadata": {},
   "outputs": [],
   "source": [
    "# Import necessary libraries\n",
    "import pandas as pd\n",
    "import numpy as np"
   ]
  },
  {
   "cell_type": "code",
   "execution_count": 61,
   "metadata": {},
   "outputs": [
    {
     "data": {
      "text/html": [
       "<div>\n",
       "<style scoped>\n",
       "    .dataframe tbody tr th:only-of-type {\n",
       "        vertical-align: middle;\n",
       "    }\n",
       "\n",
       "    .dataframe tbody tr th {\n",
       "        vertical-align: top;\n",
       "    }\n",
       "\n",
       "    .dataframe thead th {\n",
       "        text-align: right;\n",
       "    }\n",
       "</style>\n",
       "<table border=\"1\" class=\"dataframe\">\n",
       "  <thead>\n",
       "    <tr style=\"text-align: right;\">\n",
       "      <th></th>\n",
       "      <th>LOCATION</th>\n",
       "      <th>GDP (MILLION USD)</th>\n",
       "    </tr>\n",
       "  </thead>\n",
       "  <tbody>\n",
       "    <tr>\n",
       "      <th>0</th>\n",
       "      <td>AUS</td>\n",
       "      <td>1.389119e+06</td>\n",
       "    </tr>\n",
       "    <tr>\n",
       "      <th>1</th>\n",
       "      <td>AUT</td>\n",
       "      <td>5.204962e+05</td>\n",
       "    </tr>\n",
       "    <tr>\n",
       "      <th>2</th>\n",
       "      <td>BEL</td>\n",
       "      <td>6.156859e+05</td>\n",
       "    </tr>\n",
       "    <tr>\n",
       "      <th>3</th>\n",
       "      <td>CAN</td>\n",
       "      <td>1.915823e+06</td>\n",
       "    </tr>\n",
       "    <tr>\n",
       "      <th>4</th>\n",
       "      <td>CZE</td>\n",
       "      <td>4.498703e+05</td>\n",
       "    </tr>\n",
       "  </tbody>\n",
       "</table>\n",
       "</div>"
      ],
      "text/plain": [
       "  LOCATION  GDP (MILLION USD)\n",
       "0      AUS       1.389119e+06\n",
       "1      AUT       5.204962e+05\n",
       "2      BEL       6.156859e+05\n",
       "3      CAN       1.915823e+06\n",
       "4      CZE       4.498703e+05"
      ]
     },
     "execution_count": 61,
     "metadata": {},
     "output_type": "execute_result"
    }
   ],
   "source": [
    "# Q1\n",
    "# Load dataset for GDP by country\n",
    "df1 = pd.read_csv('https://stats.oecd.org/sdmx-json/data/DP_LIVE/.GDP.TOT.MLN_USD.A/OECD?contentType=csv&detail=code&separator=comma&csv-lang=en&startPeriod=2015')\n",
    "\n",
    "# Drop unnecessary columns / rows, choose only latest GDP values (for year 2019)\n",
    "df1 = df1[df1['TIME'] == 2019]\n",
    "df1.drop(columns = ['INDICATOR', 'SUBJECT', 'MEASURE', 'TIME', 'FREQUENCY', 'Flag Codes'], inplace = True)\n",
    "df1.drop(df1[(df1['LOCATION'] == 'CHN') | (df1['LOCATION'] == 'COL') | (df1['LOCATION'] == 'IDN') | (df1['LOCATION'] == 'OECDE') | (df1['LOCATION'] == 'EA19')].index, inplace = True) \n",
    "\n",
    "# Reset DataFrame index\n",
    "df1.reset_index(drop = True, inplace = True)\n",
    "\n",
    "df1.rename(columns = {'Value' : 'GDP (MILLION USD)'}, inplace = True)\n",
    "df1.head()"
   ]
  },
  {
   "cell_type": "code",
   "execution_count": 62,
   "metadata": {},
   "outputs": [
    {
     "data": {
      "text/html": [
       "<div>\n",
       "<style scoped>\n",
       "    .dataframe tbody tr th:only-of-type {\n",
       "        vertical-align: middle;\n",
       "    }\n",
       "\n",
       "    .dataframe tbody tr th {\n",
       "        vertical-align: top;\n",
       "    }\n",
       "\n",
       "    .dataframe thead th {\n",
       "        text-align: right;\n",
       "    }\n",
       "</style>\n",
       "<table border=\"1\" class=\"dataframe\">\n",
       "  <thead>\n",
       "    <tr style=\"text-align: right;\">\n",
       "      <th></th>\n",
       "      <th>LOCATION</th>\n",
       "      <th>UNEMPLOYMENT RATE (%)</th>\n",
       "    </tr>\n",
       "  </thead>\n",
       "  <tbody>\n",
       "    <tr>\n",
       "      <th>0</th>\n",
       "      <td>AUS</td>\n",
       "      <td>5.171610</td>\n",
       "    </tr>\n",
       "    <tr>\n",
       "      <th>1</th>\n",
       "      <td>AUT</td>\n",
       "      <td>4.241999</td>\n",
       "    </tr>\n",
       "    <tr>\n",
       "      <th>2</th>\n",
       "      <td>BEL</td>\n",
       "      <td>5.160264</td>\n",
       "    </tr>\n",
       "    <tr>\n",
       "      <th>3</th>\n",
       "      <td>CAN</td>\n",
       "      <td>5.700000</td>\n",
       "    </tr>\n",
       "    <tr>\n",
       "      <th>4</th>\n",
       "      <td>CZE</td>\n",
       "      <td>2.069825</td>\n",
       "    </tr>\n",
       "  </tbody>\n",
       "</table>\n",
       "</div>"
      ],
      "text/plain": [
       "  LOCATION  UNEMPLOYMENT RATE (%)\n",
       "0      AUS               5.171610\n",
       "1      AUT               4.241999\n",
       "2      BEL               5.160264\n",
       "3      CAN               5.700000\n",
       "4      CZE               2.069825"
      ]
     },
     "execution_count": 62,
     "metadata": {},
     "output_type": "execute_result"
    }
   ],
   "source": [
    "# Q2\n",
    "# Load dataset for unemployment rate by country\n",
    "df2 = pd.read_csv('https://stats.oecd.org/sdmx-json/data/DP_LIVE/.UNEMP.TOT.PC_LF.Q/OECD?contentType=csv&detail=code&separator=comma&csv-lang=en&startPeriod=2018-Q2')\n",
    "\n",
    "# Drop unnecessary columns / rows, choose only latest unemployment rates (for year 2019)\n",
    "df2 = df2[df2['TIME'] == '2019-Q4']\n",
    "df2.drop(columns = ['INDICATOR', 'SUBJECT', 'MEASURE', 'FREQUENCY', 'TIME', 'Flag Codes'], inplace = True)\n",
    "df2.drop(df2[(df2['LOCATION'] == 'ZAF') | (df2['LOCATION'] == 'COL') | (df2['LOCATION'] == 'EA19')].index, inplace = True) \n",
    "\n",
    "# Reset DataFrame index\n",
    "df2.reset_index(drop = True, inplace = True)\n",
    "\n",
    "df2.rename(columns = {'Value' : 'UNEMPLOYMENT RATE (%)'}, inplace = True)\n",
    "df2.head()"
   ]
  },
  {
   "cell_type": "code",
   "execution_count": 63,
   "metadata": {},
   "outputs": [
    {
     "data": {
      "text/html": [
       "<div>\n",
       "<style scoped>\n",
       "    .dataframe tbody tr th:only-of-type {\n",
       "        vertical-align: middle;\n",
       "    }\n",
       "\n",
       "    .dataframe tbody tr th {\n",
       "        vertical-align: top;\n",
       "    }\n",
       "\n",
       "    .dataframe thead th {\n",
       "        text-align: right;\n",
       "    }\n",
       "</style>\n",
       "<table border=\"1\" class=\"dataframe\">\n",
       "  <thead>\n",
       "    <tr style=\"text-align: right;\">\n",
       "      <th></th>\n",
       "      <th>LOCATION</th>\n",
       "      <th>UNEMPLOYMENT RATE (%)</th>\n",
       "    </tr>\n",
       "  </thead>\n",
       "  <tbody>\n",
       "    <tr>\n",
       "      <th>9</th>\n",
       "      <td>GRC</td>\n",
       "      <td>16.557090</td>\n",
       "    </tr>\n",
       "    <tr>\n",
       "      <th>13</th>\n",
       "      <td>ITA</td>\n",
       "      <td>9.601511</td>\n",
       "    </tr>\n",
       "    <tr>\n",
       "      <th>24</th>\n",
       "      <td>ESP</td>\n",
       "      <td>13.893000</td>\n",
       "    </tr>\n",
       "    <tr>\n",
       "      <th>27</th>\n",
       "      <td>TUR</td>\n",
       "      <td>13.190410</td>\n",
       "    </tr>\n",
       "  </tbody>\n",
       "</table>\n",
       "</div>"
      ],
      "text/plain": [
       "   LOCATION  UNEMPLOYMENT RATE (%)\n",
       "9       GRC              16.557090\n",
       "13      ITA               9.601511\n",
       "24      ESP              13.893000\n",
       "27      TUR              13.190410"
      ]
     },
     "execution_count": 63,
     "metadata": {},
     "output_type": "execute_result"
    }
   ],
   "source": [
    "# Q3\n",
    "# Select rows where unemployment rate > 8.5 using boolean indexing\n",
    "df2[df2['UNEMPLOYMENT RATE (%)'] > 8.5]"
   ]
  },
  {
   "cell_type": "code",
   "execution_count": 64,
   "metadata": {},
   "outputs": [],
   "source": [
    "# Q4"
   ]
  },
  {
   "cell_type": "code",
   "execution_count": null,
   "metadata": {},
   "outputs": [],
   "source": []
  }
 ],
 "metadata": {
  "kernelspec": {
   "display_name": "Python 3",
   "language": "python",
   "name": "python3"
  },
  "language_info": {
   "codemirror_mode": {
    "name": "ipython",
    "version": 3
   },
   "file_extension": ".py",
   "mimetype": "text/x-python",
   "name": "python",
   "nbconvert_exporter": "python",
   "pygments_lexer": "ipython3",
   "version": "3.7.3"
  }
 },
 "nbformat": 4,
 "nbformat_minor": 2
}
